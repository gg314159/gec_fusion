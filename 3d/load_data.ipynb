{
 "cells": [
  {
   "cell_type": "code",
   "execution_count": 1,
   "metadata": {},
   "outputs": [],
   "source": [
    "import pandas as pd\n"
   ]
  },
  {
   "cell_type": "code",
   "execution_count": 8,
   "metadata": {},
   "outputs": [],
   "source": [
    "baselineADCNMCI = pd.read_excel(\"/home/gc/gechang/gec_multi_fusion/code/3d/baselineADCNMCI.xlsx\")"
   ]
  },
  {
   "cell_type": "code",
   "execution_count": 11,
   "metadata": {},
   "outputs": [
    {
     "data": {
      "text/plain": [
       "Index(['Image Data ID_MRI', 'Subject', 'Group', 'Sex', 'Age',\n",
       "       'Image Data ID_PET', 'mripath', 'petpath'],\n",
       "      dtype='object')"
      ]
     },
     "execution_count": 11,
     "metadata": {},
     "output_type": "execute_result"
    }
   ],
   "source": [
    "baselineADCNMCI.columns"
   ]
  },
  {
   "cell_type": "code",
   "execution_count": 13,
   "metadata": {},
   "outputs": [],
   "source": [
    "baselineADCNMCIdata = pd.DataFrame(columns=['Image Data ID_MRI', 'Subject','Group','Image Data ID_PET','mridata','petdata'])"
   ]
  },
  {
   "cell_type": "code",
   "execution_count": 16,
   "metadata": {},
   "outputs": [],
   "source": [
    "import nibabel as nib\n",
    "for index,row in baselineADCNMCI.iterrows():\n",
    "    petpath = row['petpath']\n",
    "    mripath = row['mripath']\n",
    "    mriid = row['Image Data ID_MRI']\n",
    "    sub = row['Subject']\n",
    "    petid = row['Image Data ID_PET']\n",
    "    if(row['Group']) == 'AD':\n",
    "        group = 0\n",
    "    if(row['Group']) == 'CN':\n",
    "        group = 1\n",
    "    if(row['Group']) == 'MCI':\n",
    "        group = 2\n",
    "    impet = nib.load(petpath).get_fdata()\n",
    "    immri = nib.load(mripath).get_fdata()\n",
    "    baselineADCNMCIdata = baselineADCNMCIdata.append({'Image Data ID_MRI':mriid,\n",
    "                                      'Subject':sub,\n",
    "                                      'Group':group,\n",
    "                                      'Image Data ID_PET':petid,\n",
    "                                      'mridata':immri,\n",
    "                                      'petdata':impet}, ignore_index=True)\n",
    "   "
   ]
  },
  {
   "cell_type": "code",
   "execution_count": 19,
   "metadata": {},
   "outputs": [
    {
     "data": {
      "text/html": [
       "<div>\n",
       "<style scoped>\n",
       "    .dataframe tbody tr th:only-of-type {\n",
       "        vertical-align: middle;\n",
       "    }\n",
       "\n",
       "    .dataframe tbody tr th {\n",
       "        vertical-align: top;\n",
       "    }\n",
       "\n",
       "    .dataframe thead th {\n",
       "        text-align: right;\n",
       "    }\n",
       "</style>\n",
       "<table border=\"1\" class=\"dataframe\">\n",
       "  <thead>\n",
       "    <tr style=\"text-align: right;\">\n",
       "      <th></th>\n",
       "      <th>Image Data ID_MRI</th>\n",
       "      <th>Subject</th>\n",
       "      <th>Group</th>\n",
       "      <th>Image Data ID_PET</th>\n",
       "      <th>mridata</th>\n",
       "      <th>petdata</th>\n",
       "    </tr>\n",
       "  </thead>\n",
       "  <tbody>\n",
       "  </tbody>\n",
       "</table>\n",
       "</div>"
      ],
      "text/plain": [
       "Empty DataFrame\n",
       "Columns: [Image Data ID_MRI, Subject, Group, Image Data ID_PET, mridata, petdata]\n",
       "Index: []"
      ]
     },
     "execution_count": 19,
     "metadata": {},
     "output_type": "execute_result"
    }
   ],
   "source": [
    "baselineADCNMCIdata"
   ]
  },
  {
   "cell_type": "code",
   "execution_count": 18,
   "metadata": {},
   "outputs": [
    {
     "data": {
      "text/plain": [
       "(0, 6)"
      ]
     },
     "execution_count": 18,
     "metadata": {},
     "output_type": "execute_result"
    }
   ],
   "source": [
    "baselineADCNMCIdata.shape"
   ]
  }
 ],
 "metadata": {
  "kernelspec": {
   "display_name": "Python 3.7.13 ('tf2')",
   "language": "python",
   "name": "python3"
  },
  "language_info": {
   "codemirror_mode": {
    "name": "ipython",
    "version": 3
   },
   "file_extension": ".py",
   "mimetype": "text/x-python",
   "name": "python",
   "nbconvert_exporter": "python",
   "pygments_lexer": "ipython3",
   "version": "3.7.13"
  },
  "orig_nbformat": 4,
  "vscode": {
   "interpreter": {
    "hash": "21c2e2f183c37822e7d4bc5fec43e177a5b2cb834322d1d04bf2a5936321c7ef"
   }
  }
 },
 "nbformat": 4,
 "nbformat_minor": 2
}
