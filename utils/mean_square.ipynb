{
 "cells": [
  {
   "cell_type": "code",
   "execution_count": 4,
   "metadata": {},
   "outputs": [
    {
     "data": {
      "text/plain": [
       "'\\nPytorch图像预处理时，通常使用transforms.Normalize(mean, std)对图像按通道进行标准化，即减去均值，再除以方差。这样做可以加快模型的收敛速度。其中参数mean和std分别表示图像每个通道的均值和方差序列。\\n\\nImagenet数据集的均值和方差为：mean=(0.485, 0.456, 0.406)，std=(0.229, 0.224, 0.225)，因为这是在百万张图像上计算而得的，所以我们通常见到在训练过程中使用它们做标准化。而对于特定的数据集，选择这个值的结果可能并不理想。接下来给出计算特定数据集的均值和方差的方法。\\n\\n'"
      ]
     },
     "execution_count": 4,
     "metadata": {},
     "output_type": "execute_result"
    }
   ],
   "source": [
    "'''\n",
    "Pytorch图像预处理时，通常使用transforms.Normalize(mean, std)对图像按通道进行标准化，即减去均值，再除以方差。这样做可以加快模型的收敛速度。其中参数mean和std分别表示图像每个通道的均值和方差序列。\n",
    "\n",
    "Imagenet数据集的均值和方差为：mean=(0.485, 0.456, 0.406)，std=(0.229, 0.224, 0.225)，因为这是在百万张图像上计算而得的，所以我们通常见到在训练过程中使用它们做标准化。而对于特定的数据集，选择这个值的结果可能并不理想。接下来给出计算特定数据集的均值和方差的方法。\n",
    "\n",
    "'''"
   ]
  },
  {
   "cell_type": "code",
   "execution_count": 1,
   "metadata": {},
   "outputs": [
    {
     "name": "stdout",
     "output_type": "stream",
     "text": [
      "cuda is available\n",
      "Device: cuda:0\n"
     ]
    }
   ],
   "source": [
    "#只有MRI可以跑通\n",
    "import os \n",
    "os.environ['CUDA_VISIBLE_DEVICES'] = \"0\" \n",
    "import time\n",
    "# import numpy as np\n",
    "import torch\n",
    "import torch.nn as nn\n",
    "import torch.nn.functional as F\n",
    "# from torchvision import datasets\n",
    "from torchvision import transforms\n",
    "from torch.utils.data import DataLoader\n",
    "from PIL import Image\n",
    "import pickle as p\n",
    "import hiddenlayer as hl\n",
    "import math\n",
    "\n",
    "if torch.cuda.is_available():\n",
    "    print(\"cuda is available\")\n",
    "    torch.backends.cudnn.deterministic = True\n",
    "\n",
    "# Device\n",
    "DEVICE = torch.device(\"cuda:0\" if torch.cuda.is_available() else \"cpu\")\n",
    "print('Device:', DEVICE)"
   ]
  },
  {
   "cell_type": "code",
   "execution_count": 3,
   "metadata": {},
   "outputs": [],
   "source": [
    "class MyDataset(torch.utils.data.Dataset):\n",
    "    def __init__(self, root):\n",
    "        super(MyDataset, self).__init__()\n",
    "        MRI_PET_match_all = p.load(open(root,\"rb\"),encoding='iso-8859-1')\n",
    "        MRI = []\n",
    "        PET = []\n",
    "        group = []\n",
    "        for index,row in MRI_PET_match_all.iterrows():\n",
    "            MRI.append(row['MRI_img_array'])\n",
    "            PET.append(row['PET_img_array'])\n",
    "            group.append(row['Group'])\n",
    "        self.MRI = MRI\n",
    "        self.PET = PET\n",
    "        self.group = group  \n",
    "\n",
    "    def __getitem__(self, index):\n",
    "        mri = torch.from_numpy(self.MRI[index].transpose(2,0,1)).float()\n",
    "        pet = torch.from_numpy(self.PET[index].transpose(2,0,1)).float()\n",
    "        group = self.group[index]\n",
    "        \n",
    "        return mri,pet,group\n",
    "\n",
    "    def __len__(self):\n",
    "        return len(self.MRI)\n",
    "\n",
    "train_data = MyDataset(\"/home/gc/gechang/gec_multi_fusion/end_to_end/train.pkl\")\n",
    "#valid_data = MyDataset(\"/home/gc/gechang/gec_multi_fusion/utils/valid_onlyone.pkl\")\n",
    "test_data = MyDataset(\"/home/gc/gechang/gec_multi_fusion/end_to_end/test.pkl\")\n",
    "\n",
    "train_loader = DataLoader(train_data, batch_size = 16, num_workers = 8, shuffle=True)\n",
    "#valid_loader = DataLoader(valid_data, batch_size = 16, num_workers = 8, shuffle=True)\n",
    "test_loader = DataLoader(test_data, batch_size = 16, num_workers = 8)"
   ]
  },
  {
   "cell_type": "code",
   "execution_count": 4,
   "metadata": {},
   "outputs": [
    {
     "name": "stdout",
     "output_type": "stream",
     "text": [
      "[4.176061, 4.176061, 4.176061] [5.231413, 5.231413, 5.231413] [4.017313, 4.017313, 4.017313] [5.1714053, 5.1714053, 5.1714053]\n"
     ]
    }
   ],
   "source": [
    "\n",
    "train_mean_mri = torch.zeros(3)\n",
    "train_std_mri = torch.zeros(3)\n",
    "train_mean_pet = torch.zeros(3)\n",
    "train_std_pet = torch.zeros(3)\n",
    "for mri,pet,group in train_loader:\n",
    "    for d in range(3):\n",
    "        train_mean_mri[d] += mri[:, d, :, :].mean()\n",
    "        train_std_mri[d] += mri[:, d, :, :].std()\n",
    "        train_mean_pet[d] += pet[:, d, :, :].mean()\n",
    "        train_std_pet[d] += pet[:, d, :, :].std()\n",
    "train_mean_mri.div_(len(train_data))\n",
    "train_std_mri.div_(len(train_data))\n",
    "train_mean_pet.div_(len(train_data))\n",
    "train_std_pet.div_(len(train_data))\n",
    "print( list(train_mean_mri.numpy()), list(train_std_mri.numpy()),list(train_mean_pet.numpy()), list(train_std_pet.numpy()))\n",
    "\n"
   ]
  },
  {
   "cell_type": "code",
   "execution_count": 5,
   "metadata": {},
   "outputs": [
    {
     "name": "stdout",
     "output_type": "stream",
     "text": [
      "[4.3262687, 4.3262687, 4.3262687] [5.419836, 5.419836, 5.419836] [4.1623745, 4.1623745, 4.1623745] [5.3586817, 5.3586817, 5.3586817]\n"
     ]
    }
   ],
   "source": [
    "\n",
    "test_mean_mri = torch.zeros(3)\n",
    "test_std_mri = torch.zeros(3)\n",
    "test_mean_pet = torch.zeros(3)\n",
    "test_std_pet = torch.zeros(3)\n",
    "for mri,pet,group in test_loader:\n",
    "    for d in range(3):\n",
    "        test_mean_mri[d] += mri[:, d, :, :].mean()\n",
    "        test_std_mri[d] += mri[:, d, :, :].std()\n",
    "        test_mean_pet[d] += pet[:, d, :, :].mean()\n",
    "        test_std_pet[d] += pet[:, d, :, :].std()\n",
    "test_mean_mri.div_(len(test_data))\n",
    "test_std_mri.div_(len(test_data))\n",
    "test_mean_pet.div_(len(test_data))\n",
    "test_std_pet.div_(len(test_data))\n",
    "print( list(test_mean_mri.numpy()), list(test_std_mri.numpy()),list(test_mean_pet.numpy()), list(test_std_pet.numpy()))\n",
    "\n"
   ]
  },
  {
   "cell_type": "code",
   "execution_count": 8,
   "metadata": {},
   "outputs": [
    {
     "name": "stdout",
     "output_type": "stream",
     "text": [
      "[4.7232037, 4.7232037, 4.7232037] [5.8529644, 5.8529644, 5.8529644] [4.5747848, 4.5747848, 4.5747848] [5.809622, 5.809622, 5.809622]\n"
     ]
    }
   ],
   "source": [
    "\n",
    "valid_mean_mri = torch.zeros(3)\n",
    "valid_std_mri = torch.zeros(3)\n",
    "valid_mean_pet = torch.zeros(3)\n",
    "valid_std_pet = torch.zeros(3)\n",
    "for mri,pet,group in valid_loader:\n",
    "    for d in range(3):\n",
    "        valid_mean_mri[d] += mri[:, d, :, :].mean()\n",
    "        valid_std_mri[d] += mri[:, d, :, :].std()\n",
    "        valid_mean_pet[d] += pet[:, d, :, :].mean()\n",
    "        valid_std_pet[d] += pet[:, d, :, :].std()\n",
    "valid_mean_mri.div_(len(valid_data))\n",
    "valid_std_mri.div_(len(valid_data))\n",
    "valid_mean_pet.div_(len(valid_data))\n",
    "valid_std_pet.div_(len(valid_data))\n",
    "print( list(valid_mean_mri.numpy()), list(valid_std_mri.numpy()),list(valid_mean_pet.numpy()), list(valid_std_pet.numpy()))"
   ]
  }
 ],
 "metadata": {
  "kernelspec": {
   "display_name": "Python 3.7.13 ('py372')",
   "language": "python",
   "name": "python3"
  },
  "language_info": {
   "codemirror_mode": {
    "name": "ipython",
    "version": 3
   },
   "file_extension": ".py",
   "mimetype": "text/x-python",
   "name": "python",
   "nbconvert_exporter": "python",
   "pygments_lexer": "ipython3",
   "version": "3.7.13"
  },
  "orig_nbformat": 4,
  "vscode": {
   "interpreter": {
    "hash": "d9e0e02a671462d396ecc20af6161881d6338b1e899f7d69a261eb7f1f955476"
   }
  }
 },
 "nbformat": 4,
 "nbformat_minor": 2
}
